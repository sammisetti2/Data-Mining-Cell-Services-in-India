{
 "cells": [
  {
   "cell_type": "code",
   "execution_count": null,
   "metadata": {},
   "outputs": [],
   "source": [
    "import numpy as np\n",
    "import pandas as pd\n",
    "import seaborn as sns\n",
    "import matplotlib.pyplot as plt\n",
    "%matplotlib inline\n",
    "data=pd.read_csv(\"July18_myspeed.csv\") #To read csv file\n",
    "df=pd.DataFrame(data)\n",
    "df1=pd.DataFrame()\n",
    "df['signal_strength']=pd.to_numeric(df['signal_strength'],errors='coerce') #This part is for March18_myspeed.csv file only to convert string type data(signal strength) to float64 type\n",
    "df['speed']=df['speed']*1000 #This part is for March18_myspeed.csv file only to convert Mbps to Kbps\n",
    "df['download/upload']=df['download/upload'].replace('Upload','upload') #This part is for March18_myspeed.csv file only to replace Upload to upload\n",
    "df['download/upload']=df['download/upload'].replace('Download','download') #This part is for March18_myspeed.csv file only to replace Download to download"
   ]
  },
  {
   "cell_type": "code",
   "execution_count": 14,
   "metadata": {
    "scrolled": false
   },
   "outputs": [],
   "source": [
    "df.dropna(axis=0,subset=['state'],inplace=True,how='any') #To drop rows whose state(area) is unkown\n",
    "df=df[df['speed']>0] #To remove rows with data speeds are negative"
   ]
  },
  {
   "cell_type": "code",
   "execution_count": 15,
   "metadata": {},
   "outputs": [],
   "source": [
    "df['signal_strength'] = df['signal_strength'].replace(np.nan,0) "
   ]
  },
  {
   "cell_type": "code",
   "execution_count": 16,
   "metadata": {},
   "outputs": [],
   "source": [
    "#Random sampling of data to 5% of particular type\n",
    "def sample(df,df1):\n",
    "    state = df['state'].unique()\n",
    "    serviceprov = df['service_provider'].unique()\n",
    "    tech = df['technology'].unique()\n",
    "    d_u = df['download/upload'].unique()\n",
    "    df1=pd.DataFrame()\n",
    "    for k1 in state:\n",
    "        for k2 in serviceprov:\n",
    "            for k3 in tech:\n",
    "                for k4 in d_u:\n",
    "                    a=((df['state']==k1) & (df['service_provider']==k2) & (df['technology']==k3) & (df['download/upload']==k4))\n",
    "                    df1=df1.append(df[a].sample(frac =0.05))\n",
    "    return df1\n",
    "df2=sample(df,df1)"
   ]
  },
  {
   "cell_type": "code",
   "execution_count": 19,
   "metadata": {},
   "outputs": [],
   "source": [
    "def replacena(df2):\n",
    "    state = df['state']\n",
    "    serviceprov = df['service_provider']\n",
    "    tech = df['technology']\n",
    "    d_u = df['download/upload']\n",
    "    speed = df['speed']\n",
    "    strength = df['signal_strength']\n",
    "    for key,value in strength.iteritems():\n",
    "        if(value == 0):\n",
    "            tstate = df.loc[key]['state']\n",
    "            tservice = df.loc[key]['service_provider']\n",
    "            ttech = df.loc[key]['technology']\n",
    "            tdu = df.loc[key]['download/upload']\n",
    "            a=((df2['state']==tstate) & (df2['service_provider']==tservice) & (df2['technology']==ttech) & (df2['download/upload']==tdu))\n",
    "            df2[a]=df2[a].replace(0,np.nan)\n",
    "            df2[a]=df2[a].fillna(df2[a]['signal_strength'].mean())"
   ]
  },
  {
   "cell_type": "code",
   "execution_count": 20,
   "metadata": {},
   "outputs": [],
   "source": [
    "replacena(df2) #Replacing NA value with average value of that particular state(area),technology,service provider,download or upload type"
   ]
  },
  {
   "cell_type": "code",
   "execution_count": 21,
   "metadata": {},
   "outputs": [],
   "source": [
    "df2['Month'] = 'July' #add respective month which we are working on\n",
    "df2['Year'] = 2018 #add respective year which we are working on\n",
    "df2.to_csv(\"Sampled_Cleaned_July181.csv\", index=False) # saving that data to a csv file"
   ]
  }
 ],
 "metadata": {
  "kernelspec": {
   "display_name": "Python 3",
   "language": "python",
   "name": "python3"
  },
  "language_info": {
   "codemirror_mode": {
    "name": "ipython",
    "version": 3
   },
   "file_extension": ".py",
   "mimetype": "text/x-python",
   "name": "python",
   "nbconvert_exporter": "python",
   "pygments_lexer": "ipython3",
   "version": "3.7.2"
  }
 },
 "nbformat": 4,
 "nbformat_minor": 2
}
